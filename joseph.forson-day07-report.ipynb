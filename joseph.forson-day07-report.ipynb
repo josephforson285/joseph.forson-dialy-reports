{
 "cells": [
  {
   "cell_type": "markdown",
   "id": "87e7778c-75bf-45a5-8e85-5ed8568bfc61",
   "metadata": {},
   "source": [
    "`recursive functions  - lamdba functions` in nutshell"
   ]
  },
  {
   "cell_type": "markdown",
   "id": "40ec7b2d-a166-4312-a838-a17f7cbd1b8e",
   "metadata": {},
   "source": [
    "## Recursive function\n",
    "\n",
    "A function that **calls itself** to solve a problem by breaking it into smaller subproblems. It must have a **base case** to stop recursion.\n",
    "\n",
    "```python\n",
    "   def fact(n):\n",
    "    if n <= 1:           # base case\n",
    "        return 1\n",
    "    return n * fact(n-1) # recursive step\n",
    "```"
   ]
  },
  {
   "cell_type": "code",
   "execution_count": 12,
   "id": "e669e6bf-4754-413e-b99a-a7492be43295",
   "metadata": {},
   "outputs": [],
   "source": [
    "def fact(n):\n",
    "    if n <= 1:           # base case\n",
    "        return 1\n",
    "    return n * fact(n-1) # recursive step"
   ]
  },
  {
   "cell_type": "code",
   "execution_count": 17,
   "id": "afc8bb37-3430-4160-9c6c-9c18ddeeb49c",
   "metadata": {},
   "outputs": [
    {
     "data": {
      "text/plain": [
       "6"
      ]
     },
     "execution_count": 17,
     "metadata": {},
     "output_type": "execute_result"
    }
   ],
   "source": [
    "fact(3)"
   ]
  },
  {
   "cell_type": "code",
   "execution_count": 19,
   "id": "bb38e907-e6ce-4274-8a38-e227257fcdb7",
   "metadata": {},
   "outputs": [],
   "source": [
    "def fibo(n):\n",
    "    if n <= 1:\n",
    "        return n\n",
    "    return fibo(n-1)+fibo(n-2)"
   ]
  },
  {
   "cell_type": "code",
   "execution_count": 19,
   "id": "14bf8a74-7e65-4cf6-bc2e-7d94a73add25",
   "metadata": {},
   "outputs": [],
   "source": [
    "def fibo(n):\n",
    "    if n <= 1:\n",
    "        return n\n",
    "    return fibo(n-1)+fibo(n-2)"
   ]
  },
  {
   "cell_type": "code",
   "execution_count": 26,
   "id": "48ea1e1d-cb6b-4d8d-8964-e347b4663ecd",
   "metadata": {},
   "outputs": [
    {
     "data": {
      "text/plain": [
       "55"
      ]
     },
     "execution_count": 26,
     "metadata": {},
     "output_type": "execute_result"
    }
   ],
   "source": [
    "fibo(10)"
   ]
  },
  {
   "cell_type": "code",
   "execution_count": null,
   "id": "0d3cf0d3-6696-44bf-bd5d-329020534fc5",
   "metadata": {},
   "outputs": [],
   "source": []
  },
  {
   "cell_type": "markdown",
   "id": "c90883e1-48bb-4258-a747-84355688b3b5",
   "metadata": {},
   "source": [
    "Here are two clean recursive sequence examples:\n",
    "\n",
    "### 1) Fibonacci sequence\n",
    "Defined by  \n",
    "$$F(0)=0,\\; F(1)=1,\\; F(n)=F(n-1)+F(n-2) for \\quad  n\\ge2$$.\n",
    "\n",
    "```python\n",
    "from functools import lru_cache\n",
    "\n",
    "@lru_cache(None)\n",
    "def fib(n):\n",
    "    if n <= 1:\n",
    "        return n\n",
    "    return fib(n-1) + fib(n-2)\n",
    "\n",
    "# first 10 terms\n",
    "print([fib(i) for i in range(10)])  # [0, 1, 1, 2, 3, 5, 8, 13, 21, 34]\n",
    "```\n",
    "\n",
    "### 2) Geometric sequence\n",
    "Defined by  \n",
    "$$ a_0 = a0,\\; a_n = r \\cdot a_{n-1}.$$\n",
    "\n",
    "```python\n",
    "def geom(n, a0=3, r=2):\n",
    "    if n == 0:\n",
    "        return a0\n",
    "    return r * geom(n-1, a0, r)\n",
    "\n",
    "# first 6 terms with a0=3, r=2: 3, 6, 12, 24, 48, 96\n",
    "print([geom(i, a0=3, r=2) for i in range(6)])\n",
    "```\n",
    "\n",
    "> Notes: Always include a base case (`n==0` or `n<=1`). In Python, deep recursion can hit the recursion limit; for large `n`, prefer iterative versions.\n"
   ]
  },
  {
   "cell_type": "code",
   "execution_count": null,
   "id": "0816ae92-f7d8-4c9e-95b4-ad415d67b25d",
   "metadata": {},
   "outputs": [],
   "source": []
  },
  {
   "cell_type": "markdown",
   "id": "27879fe2-b970-4571-a3b5-9f65625df19d",
   "metadata": {},
   "source": [
    "## `lambda` function\n",
    "A small, **anonymous, single-expression** function—handy when you need a quick function inline.\n",
    "\n",
    "Notes: `lambda` can’t contain statements (only an expression). Great for short “throwaway” functions (e.g., sort keys, `map`, `filter`); for anything nontrivial, prefer `def` for clarity."
   ]
  },
  {
   "cell_type": "code",
   "execution_count": 6,
   "id": "31887853-ebd9-4431-bd44-1b657eebe0f8",
   "metadata": {},
   "outputs": [
    {
     "name": "stdout",
     "output_type": "stream",
     "text": [
      "8\n"
     ]
    }
   ],
   "source": [
    "double = lambda x: x * 2\n",
    "print(double(4))  # 8\n"
   ]
  },
  {
   "cell_type": "markdown",
   "id": "e6bda36a-db1d-43e6-9760-c8da3f3ccd9f",
   "metadata": {},
   "source": [
    "That `lambda x: x * 2` is just a tiny anonymous function that doubles its input."
   ]
  },
  {
   "cell_type": "code",
   "execution_count": 3,
   "id": "0c5730e0-1413-4656-8b24-603aa83ea8eb",
   "metadata": {},
   "outputs": [],
   "source": [
    "square = lambda x: x**2\n",
    "square(5)  # 25\n",
    "\n",
    "names = [\"Ada\", \"grace\", \"turing\"]\n",
    "sorted_names = sorted(names, key=lambda s: s.lower())\n"
   ]
  },
  {
   "cell_type": "code",
   "execution_count": 4,
   "id": "08270458-629a-4f62-8b58-c3c2ae309cd7",
   "metadata": {},
   "outputs": [
    {
     "data": {
      "text/plain": [
       "['Ada', 'grace', 'turing']"
      ]
     },
     "execution_count": 4,
     "metadata": {},
     "output_type": "execute_result"
    }
   ],
   "source": [
    "sorted_names"
   ]
  },
  {
   "cell_type": "code",
   "execution_count": 8,
   "id": "90d7a295-4745-4f38-8362-be0dc5b4be8e",
   "metadata": {},
   "outputs": [
    {
     "name": "stdout",
     "output_type": "stream",
     "text": [
      "10\n"
     ]
    }
   ],
   "source": [
    "double = lambda x: x * 2\n",
    "val = double(5)          # 10  ← this is the lambda’s return value\n",
    "print(val)"
   ]
  },
  {
   "cell_type": "code",
   "execution_count": 27,
   "id": "eeacffe3-4e46-4a6c-8d50-cd9ee9d29197",
   "metadata": {},
   "outputs": [
    {
     "name": "stdout",
     "output_type": "stream",
     "text": [
      "16\n",
      "8\n"
     ]
    }
   ],
   "source": [
    "def power(n):\n",
    "    return lambda x: x ** n   # returns a function\n",
    "\n",
    "square = power(2)\n",
    "cube   = power(3)\n",
    "\n",
    "print(square(4))  # 16\n",
    "print(cube(2))    # 8\n"
   ]
  },
  {
   "cell_type": "code",
   "execution_count": 28,
   "id": "27d36e3c-d225-420f-bdf8-e597fb0354bf",
   "metadata": {},
   "outputs": [
    {
     "name": "stdout",
     "output_type": "stream",
     "text": [
      "Cara\n"
     ]
    }
   ],
   "source": [
    "# Pick the student with the highest average quiz score\n",
    "students = [\n",
    "    {\"name\": \"Alice\", \"quiz\": [10, 8, 9]},\n",
    "    {\"name\": \"Bob\",   \"quiz\": [7, 6, 9]},\n",
    "    {\"name\": \"Cara\",  \"quiz\": [9, 10, 10]},\n",
    "]\n",
    "\n",
    "top_student = max(students, key=lambda d: sum(d[\"quiz\"]) / len(d[\"quiz\"]))\n",
    "print(top_student[\"name\"])  # Cara\n"
   ]
  },
  {
   "cell_type": "markdown",
   "id": "2ec3cc1f-8bd7-4226-8b56-2e5356646129",
   "metadata": {},
   "source": [
    "`lambda d: ...` creates a tiny “on-the-fly” function that computes each student’s average; `max(..., key=...)` uses that to decide who’s best."
   ]
  },
  {
   "cell_type": "markdown",
   "id": "2a1de197-3ce5-4d64-8673-50bcf3840cfc",
   "metadata": {},
   "source": [
    "\n",
    "### Recursive functions (why they matter)\n",
    "\n",
    "* **Natural fit for self-similar problems**: trees/graphs, nested folders, divide-and-conquer (binary search, mergesort, quicksort).\n",
    "* **Clear, math-like reasoning**: mirrors inductive definitions; base case + recursive step make correctness easier to argue.\n",
    "* **Compact code** for backtracking/combinatorics (paths, permutations, subsets).\n",
    "* **Trade-offs**: extra call overhead, possible stack overflows; Python has **no tail-call optimization**, so prefer iterative versions for deep recursions or performance-critical paths.\n",
    "\n",
    "### `lambda` functions (why they matter)\n",
    "\n",
    "* **Pass behavior as data**: tiny anonymous functions make higher-order patterns ergonomic (`sorted(key=...)`, `min/max(key=...)`, `map`, `filter`, callbacks).\n",
    "* **Concise, one-off logic** without polluting the namespace with throwaway function names.\n",
    "* **Closures**: can capture surrounding variables to parameterize behavior on the fly.\n",
    "* **Trade-offs**: single-expression only; overuse can hurt readability—use `def` when logic grows or needs documentation/tests.\n",
    "\n",
    "**Rule of thumb:** use recursion when the problem is naturally recursive and depth is bounded; use `lambda` for short, local transformations—otherwise write a named `def` for clarity.\n"
   ]
  },
  {
   "cell_type": "code",
   "execution_count": null,
   "id": "8c754a12-bc78-4a84-b7c2-ec658f4c94f0",
   "metadata": {},
   "outputs": [],
   "source": []
  }
 ],
 "metadata": {
  "kernelspec": {
   "display_name": "Python 3 (ipykernel)",
   "language": "python",
   "name": "python3"
  },
  "language_info": {
   "codemirror_mode": {
    "name": "ipython",
    "version": 3
   },
   "file_extension": ".py",
   "mimetype": "text/x-python",
   "name": "python",
   "nbconvert_exporter": "python",
   "pygments_lexer": "ipython3",
   "version": "3.13.5"
  }
 },
 "nbformat": 4,
 "nbformat_minor": 5
}
